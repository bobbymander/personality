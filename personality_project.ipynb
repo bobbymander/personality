{
 "cells": [
  {
   "cell_type": "markdown",
   "metadata": {},
   "source": [
    "# Personality Survey Data Analysis\n",
    "\n",
    "In this notebook we will be looking at a personality survey data which over 1 million people have taken from all over the world.  The data was obtained from Kaggle:  https://www.kaggle.com/tunguz/big-five-personality-test\n",
    "\n",
    "We are looking to answer the below questions:\n",
    "    1.  Can we predict the person's country based on his survey answers?  \n",
    "    2.  Can we predict a person's time spent on the survey based on his survey answers?\n",
    "    3.  Are the questions in a group correlated with one another more than with other questions in other groups?\n",
    "    4.  Can we predict the person's country more accurately if we ignore some survey answers?\n",
    "    \n",
    "We will be following the CRISP-DM process throughout.  This process involves the below phases for this project:\n",
    "    1.  Business Understanding\n",
    "    2.  Data Understanding\n",
    "    3.  Prepare Data\n",
    "    4.  Data Modeling\n",
    "    5.  Evaluate the Results\n",
    "\n",
    "We will annotate the section for each phase as we move along."
   ]
  },
  {
   "cell_type": "markdown",
   "metadata": {},
   "source": [
    "## CRISP-DM:  Business Understanding\n",
    "\n",
    "A person's personality has been studied extensively by the pyschology community.  One of the models for personality is called the Big Five personality traits or the five-factor model (FFM).  This model groups personality into the 5 categories:  openness, conscientiousness, extraversion, agreeableness, and neuroticism (OCEAN acronym).  Based on the model, in order to understand a person's personality, we would have to measure their qualities in these categories.  The Open Psychometrics project attempted to do just this with a comprehensive survey created along the Big Five personality model.\n",
    "\n",
    "Big Five Wiki:  https://en.wikipedia.org/wiki/Big_Five_personality_traits\n",
    "Open Psychometrics Project:  https://openpsychometrics.org/tests/IPIP-BFFM/"
   ]
  },
  {
   "cell_type": "markdown",
   "metadata": {},
   "source": [
    "## CRISP-DM:  Data Understanding\n",
    "\n",
    "The data we are looking at involves a personality survey given to over 1 million people from around the world.  The survey was given along the framework of the Big Five personality traits.  There were 50 survey questions grouped into the five categories:  openness, conscientiousness, extraversion, agreeableness, and neuroticism.  The answers to the survey are in the range 0-5.  0 indicates that the question was not answered.  1 indicates they disagree with the question statement while 5 indicates they agree.  Respondents could answer with either 1, 2, 3, 4, or 5 indicating their level of agreement or disagreement with the statements.  The survey also contained other information about the respondent including the country they are from, the size of the screen they used for the survey, and the time they took in various parts of the survey.\n",
    "\n",
    "The data also included a codebook which describes the data set in complete detail along with the meta-information involved.\n",
    "\n",
    "Based on this data, we would like to know what, if anything, we can predict about the respondent given the survey answers they gave.\n",
    "\n",
    "Let's read in the data and take a look.  There are 2 csv files involved:  the survey answers and the codebook describing the survey."
   ]
  },
  {
   "cell_type": "code",
   "execution_count": 1,
   "metadata": {},
   "outputs": [],
   "source": [
    "# Import needed libraries\n",
    "import numpy as np\n",
    "import pandas as pd\n",
    "import matplotlib.pyplot as plt\n",
    "%matplotlib inline\n",
    "\n",
    "# Read in the data, it's a large file with over 1 million rows and 100 columns.\n",
    "pers = pd.read_csv('./data-final.csv', sep='\\t')"
   ]
  },
  {
   "cell_type": "markdown",
   "metadata": {},
   "source": [
    "#### The data has 110 columns which includes the 50 question answers and the metadata."
   ]
  },
  {
   "cell_type": "code",
   "execution_count": 2,
   "metadata": {},
   "outputs": [
    {
     "data": {
      "text/html": [
       "<div>\n",
       "<style scoped>\n",
       "    .dataframe tbody tr th:only-of-type {\n",
       "        vertical-align: middle;\n",
       "    }\n",
       "\n",
       "    .dataframe tbody tr th {\n",
       "        vertical-align: top;\n",
       "    }\n",
       "\n",
       "    .dataframe thead th {\n",
       "        text-align: right;\n",
       "    }\n",
       "</style>\n",
       "<table border=\"1\" class=\"dataframe\">\n",
       "  <thead>\n",
       "    <tr style=\"text-align: right;\">\n",
       "      <th></th>\n",
       "      <th>EXT1</th>\n",
       "      <th>EXT2</th>\n",
       "      <th>EXT3</th>\n",
       "      <th>EXT4</th>\n",
       "      <th>EXT5</th>\n",
       "      <th>EXT6</th>\n",
       "      <th>EXT7</th>\n",
       "      <th>EXT8</th>\n",
       "      <th>EXT9</th>\n",
       "      <th>EXT10</th>\n",
       "      <th>...</th>\n",
       "      <th>dateload</th>\n",
       "      <th>screenw</th>\n",
       "      <th>screenh</th>\n",
       "      <th>introelapse</th>\n",
       "      <th>testelapse</th>\n",
       "      <th>endelapse</th>\n",
       "      <th>IPC</th>\n",
       "      <th>country</th>\n",
       "      <th>lat_appx_lots_of_err</th>\n",
       "      <th>long_appx_lots_of_err</th>\n",
       "    </tr>\n",
       "  </thead>\n",
       "  <tbody>\n",
       "    <tr>\n",
       "      <th>0</th>\n",
       "      <td>4.0</td>\n",
       "      <td>1.0</td>\n",
       "      <td>5.0</td>\n",
       "      <td>2.0</td>\n",
       "      <td>5.0</td>\n",
       "      <td>1.0</td>\n",
       "      <td>5.0</td>\n",
       "      <td>2.0</td>\n",
       "      <td>4.0</td>\n",
       "      <td>1.0</td>\n",
       "      <td>...</td>\n",
       "      <td>2016-03-03 02:01:01</td>\n",
       "      <td>768.0</td>\n",
       "      <td>1024.0</td>\n",
       "      <td>9.0</td>\n",
       "      <td>234.0</td>\n",
       "      <td>6</td>\n",
       "      <td>1</td>\n",
       "      <td>GB</td>\n",
       "      <td>51.5448</td>\n",
       "      <td>0.1991</td>\n",
       "    </tr>\n",
       "    <tr>\n",
       "      <th>1</th>\n",
       "      <td>3.0</td>\n",
       "      <td>5.0</td>\n",
       "      <td>3.0</td>\n",
       "      <td>4.0</td>\n",
       "      <td>3.0</td>\n",
       "      <td>3.0</td>\n",
       "      <td>2.0</td>\n",
       "      <td>5.0</td>\n",
       "      <td>1.0</td>\n",
       "      <td>5.0</td>\n",
       "      <td>...</td>\n",
       "      <td>2016-03-03 02:01:20</td>\n",
       "      <td>1360.0</td>\n",
       "      <td>768.0</td>\n",
       "      <td>12.0</td>\n",
       "      <td>179.0</td>\n",
       "      <td>11</td>\n",
       "      <td>1</td>\n",
       "      <td>MY</td>\n",
       "      <td>3.1698</td>\n",
       "      <td>101.706</td>\n",
       "    </tr>\n",
       "    <tr>\n",
       "      <th>2</th>\n",
       "      <td>2.0</td>\n",
       "      <td>3.0</td>\n",
       "      <td>4.0</td>\n",
       "      <td>4.0</td>\n",
       "      <td>3.0</td>\n",
       "      <td>2.0</td>\n",
       "      <td>1.0</td>\n",
       "      <td>3.0</td>\n",
       "      <td>2.0</td>\n",
       "      <td>5.0</td>\n",
       "      <td>...</td>\n",
       "      <td>2016-03-03 02:01:56</td>\n",
       "      <td>1366.0</td>\n",
       "      <td>768.0</td>\n",
       "      <td>3.0</td>\n",
       "      <td>186.0</td>\n",
       "      <td>7</td>\n",
       "      <td>1</td>\n",
       "      <td>GB</td>\n",
       "      <td>54.9119</td>\n",
       "      <td>-1.3833</td>\n",
       "    </tr>\n",
       "    <tr>\n",
       "      <th>3</th>\n",
       "      <td>2.0</td>\n",
       "      <td>2.0</td>\n",
       "      <td>2.0</td>\n",
       "      <td>3.0</td>\n",
       "      <td>4.0</td>\n",
       "      <td>2.0</td>\n",
       "      <td>2.0</td>\n",
       "      <td>4.0</td>\n",
       "      <td>1.0</td>\n",
       "      <td>4.0</td>\n",
       "      <td>...</td>\n",
       "      <td>2016-03-03 02:02:02</td>\n",
       "      <td>1920.0</td>\n",
       "      <td>1200.0</td>\n",
       "      <td>186.0</td>\n",
       "      <td>219.0</td>\n",
       "      <td>7</td>\n",
       "      <td>1</td>\n",
       "      <td>GB</td>\n",
       "      <td>51.75</td>\n",
       "      <td>-1.25</td>\n",
       "    </tr>\n",
       "    <tr>\n",
       "      <th>4</th>\n",
       "      <td>3.0</td>\n",
       "      <td>3.0</td>\n",
       "      <td>3.0</td>\n",
       "      <td>3.0</td>\n",
       "      <td>5.0</td>\n",
       "      <td>3.0</td>\n",
       "      <td>3.0</td>\n",
       "      <td>5.0</td>\n",
       "      <td>3.0</td>\n",
       "      <td>4.0</td>\n",
       "      <td>...</td>\n",
       "      <td>2016-03-03 02:02:57</td>\n",
       "      <td>1366.0</td>\n",
       "      <td>768.0</td>\n",
       "      <td>8.0</td>\n",
       "      <td>315.0</td>\n",
       "      <td>17</td>\n",
       "      <td>2</td>\n",
       "      <td>KE</td>\n",
       "      <td>1.0</td>\n",
       "      <td>38.0</td>\n",
       "    </tr>\n",
       "  </tbody>\n",
       "</table>\n",
       "<p>5 rows × 110 columns</p>\n",
       "</div>"
      ],
      "text/plain": [
       "   EXT1  EXT2  EXT3  EXT4  EXT5  EXT6  EXT7  EXT8  EXT9  EXT10  ...  \\\n",
       "0   4.0   1.0   5.0   2.0   5.0   1.0   5.0   2.0   4.0    1.0  ...   \n",
       "1   3.0   5.0   3.0   4.0   3.0   3.0   2.0   5.0   1.0    5.0  ...   \n",
       "2   2.0   3.0   4.0   4.0   3.0   2.0   1.0   3.0   2.0    5.0  ...   \n",
       "3   2.0   2.0   2.0   3.0   4.0   2.0   2.0   4.0   1.0    4.0  ...   \n",
       "4   3.0   3.0   3.0   3.0   5.0   3.0   3.0   5.0   3.0    4.0  ...   \n",
       "\n",
       "              dateload  screenw  screenh  introelapse  testelapse  endelapse  \\\n",
       "0  2016-03-03 02:01:01    768.0   1024.0          9.0       234.0          6   \n",
       "1  2016-03-03 02:01:20   1360.0    768.0         12.0       179.0         11   \n",
       "2  2016-03-03 02:01:56   1366.0    768.0          3.0       186.0          7   \n",
       "3  2016-03-03 02:02:02   1920.0   1200.0        186.0       219.0          7   \n",
       "4  2016-03-03 02:02:57   1366.0    768.0          8.0       315.0         17   \n",
       "\n",
       "   IPC  country  lat_appx_lots_of_err  long_appx_lots_of_err  \n",
       "0    1       GB               51.5448                 0.1991  \n",
       "1    1       MY                3.1698                101.706  \n",
       "2    1       GB               54.9119                -1.3833  \n",
       "3    1       GB                 51.75                  -1.25  \n",
       "4    2       KE                   1.0                   38.0  \n",
       "\n",
       "[5 rows x 110 columns]"
      ]
     },
     "execution_count": 2,
     "metadata": {},
     "output_type": "execute_result"
    }
   ],
   "source": [
    "# Show a sample of the data\n",
    "pers.head()"
   ]
  },
  {
   "cell_type": "markdown",
   "metadata": {},
   "source": [
    "#### The codebook has a listing of columns and their descriptions."
   ]
  },
  {
   "cell_type": "code",
   "execution_count": 3,
   "metadata": {},
   "outputs": [
    {
     "data": {
      "text/html": [
       "<div>\n",
       "<style scoped>\n",
       "    .dataframe tbody tr th:only-of-type {\n",
       "        vertical-align: middle;\n",
       "    }\n",
       "\n",
       "    .dataframe tbody tr th {\n",
       "        vertical-align: top;\n",
       "    }\n",
       "\n",
       "    .dataframe thead th {\n",
       "        text-align: right;\n",
       "    }\n",
       "</style>\n",
       "<table border=\"1\" class=\"dataframe\">\n",
       "  <thead>\n",
       "    <tr style=\"text-align: right;\">\n",
       "      <th></th>\n",
       "      <th>Code</th>\n",
       "      <th>Description</th>\n",
       "    </tr>\n",
       "  </thead>\n",
       "  <tbody>\n",
       "    <tr>\n",
       "      <th>0</th>\n",
       "      <td>EXT1</td>\n",
       "      <td>I am the life of the party.</td>\n",
       "    </tr>\n",
       "    <tr>\n",
       "      <th>1</th>\n",
       "      <td>EXT2</td>\n",
       "      <td>I don't talk a lot.</td>\n",
       "    </tr>\n",
       "    <tr>\n",
       "      <th>2</th>\n",
       "      <td>EXT3</td>\n",
       "      <td>I feel comfortable around people.</td>\n",
       "    </tr>\n",
       "    <tr>\n",
       "      <th>3</th>\n",
       "      <td>EXT4</td>\n",
       "      <td>I keep in the background.</td>\n",
       "    </tr>\n",
       "    <tr>\n",
       "      <th>4</th>\n",
       "      <td>EXT5</td>\n",
       "      <td>I start conversations.</td>\n",
       "    </tr>\n",
       "  </tbody>\n",
       "</table>\n",
       "</div>"
      ],
      "text/plain": [
       "   Code                        Description\n",
       "0  EXT1        I am the life of the party.\n",
       "1  EXT2                I don't talk a lot.\n",
       "2  EXT3  I feel comfortable around people.\n",
       "3  EXT4          I keep in the background.\n",
       "4  EXT5             I start conversations."
      ]
     },
     "execution_count": 3,
     "metadata": {},
     "output_type": "execute_result"
    }
   ],
   "source": [
    "# Read in the codes which describes the data, especially the different questions that were asked\n",
    "codes = pd.read_csv('./codebook.txt', sep='\\t', skiprows=(0,1,2,3,4,5), names=['Code', 'Description'])\n",
    "\n",
    "# Show a sample of the data\n",
    "codes.head()"
   ]
  },
  {
   "cell_type": "code",
   "execution_count": 4,
   "metadata": {},
   "outputs": [
    {
     "name": "stdout",
     "output_type": "stream",
     "text": [
      "(1015341, 110)\n",
      "(61, 2)\n"
     ]
    }
   ],
   "source": [
    "# Check shapes\n",
    "print(pers.shape)\n",
    "print(codes.shape)"
   ]
  },
  {
   "cell_type": "markdown",
   "metadata": {},
   "source": [
    "## CRISP-DM:  Prepare Data\n",
    "\n",
    "We will now look more closely at the data from the survey and prepare it for our use using python and pandas.  "
   ]
  },
  {
   "cell_type": "markdown",
   "metadata": {},
   "source": [
    "#### As part of the data preparation, we will look for null and take the proper subset of data in the codebook."
   ]
  },
  {
   "cell_type": "code",
   "execution_count": 5,
   "metadata": {},
   "outputs": [
    {
     "name": "stdout",
     "output_type": "stream",
     "text": [
      "Code            0\n",
      "Description    11\n",
      "dtype: int64\n"
     ]
    },
    {
     "data": {
      "text/html": [
       "<div>\n",
       "<style scoped>\n",
       "    .dataframe tbody tr th:only-of-type {\n",
       "        vertical-align: middle;\n",
       "    }\n",
       "\n",
       "    .dataframe tbody tr th {\n",
       "        vertical-align: top;\n",
       "    }\n",
       "\n",
       "    .dataframe thead th {\n",
       "        text-align: right;\n",
       "    }\n",
       "</style>\n",
       "<table border=\"1\" class=\"dataframe\">\n",
       "  <thead>\n",
       "    <tr style=\"text-align: right;\">\n",
       "      <th></th>\n",
       "      <th>Code</th>\n",
       "      <th>Description</th>\n",
       "    </tr>\n",
       "  </thead>\n",
       "  <tbody>\n",
       "    <tr>\n",
       "      <th>0</th>\n",
       "      <td>EXT1</td>\n",
       "      <td>I am the life of the party.</td>\n",
       "    </tr>\n",
       "    <tr>\n",
       "      <th>1</th>\n",
       "      <td>EXT2</td>\n",
       "      <td>I don't talk a lot.</td>\n",
       "    </tr>\n",
       "    <tr>\n",
       "      <th>2</th>\n",
       "      <td>EXT3</td>\n",
       "      <td>I feel comfortable around people.</td>\n",
       "    </tr>\n",
       "    <tr>\n",
       "      <th>3</th>\n",
       "      <td>EXT4</td>\n",
       "      <td>I keep in the background.</td>\n",
       "    </tr>\n",
       "    <tr>\n",
       "      <th>4</th>\n",
       "      <td>EXT5</td>\n",
       "      <td>I start conversations.</td>\n",
       "    </tr>\n",
       "    <tr>\n",
       "      <th>5</th>\n",
       "      <td>EXT6</td>\n",
       "      <td>I have little to say.</td>\n",
       "    </tr>\n",
       "    <tr>\n",
       "      <th>6</th>\n",
       "      <td>EXT7</td>\n",
       "      <td>I talk to a lot of different people at parties.</td>\n",
       "    </tr>\n",
       "    <tr>\n",
       "      <th>7</th>\n",
       "      <td>EXT8</td>\n",
       "      <td>I don't like to draw attention to myself.</td>\n",
       "    </tr>\n",
       "    <tr>\n",
       "      <th>8</th>\n",
       "      <td>EXT9</td>\n",
       "      <td>I don't mind being the center of attention.</td>\n",
       "    </tr>\n",
       "    <tr>\n",
       "      <th>9</th>\n",
       "      <td>EXT10</td>\n",
       "      <td>I am quiet around strangers.</td>\n",
       "    </tr>\n",
       "    <tr>\n",
       "      <th>10</th>\n",
       "      <td>EST1</td>\n",
       "      <td>I get stressed out easily.</td>\n",
       "    </tr>\n",
       "    <tr>\n",
       "      <th>11</th>\n",
       "      <td>EST2</td>\n",
       "      <td>I am relaxed most of the time.</td>\n",
       "    </tr>\n",
       "    <tr>\n",
       "      <th>12</th>\n",
       "      <td>EST3</td>\n",
       "      <td>I worry about things.</td>\n",
       "    </tr>\n",
       "    <tr>\n",
       "      <th>13</th>\n",
       "      <td>EST4</td>\n",
       "      <td>I seldom feel blue.</td>\n",
       "    </tr>\n",
       "    <tr>\n",
       "      <th>14</th>\n",
       "      <td>EST5</td>\n",
       "      <td>I am easily disturbed.</td>\n",
       "    </tr>\n",
       "    <tr>\n",
       "      <th>15</th>\n",
       "      <td>EST6</td>\n",
       "      <td>I get upset easily.</td>\n",
       "    </tr>\n",
       "    <tr>\n",
       "      <th>16</th>\n",
       "      <td>EST7</td>\n",
       "      <td>I change my mood a lot.</td>\n",
       "    </tr>\n",
       "    <tr>\n",
       "      <th>17</th>\n",
       "      <td>EST8</td>\n",
       "      <td>I have frequent mood swings.</td>\n",
       "    </tr>\n",
       "    <tr>\n",
       "      <th>18</th>\n",
       "      <td>EST9</td>\n",
       "      <td>I get irritated easily.</td>\n",
       "    </tr>\n",
       "    <tr>\n",
       "      <th>19</th>\n",
       "      <td>EST10</td>\n",
       "      <td>I often feel blue.</td>\n",
       "    </tr>\n",
       "    <tr>\n",
       "      <th>20</th>\n",
       "      <td>AGR1</td>\n",
       "      <td>I feel little concern for others.</td>\n",
       "    </tr>\n",
       "    <tr>\n",
       "      <th>21</th>\n",
       "      <td>AGR2</td>\n",
       "      <td>I am interested in people.</td>\n",
       "    </tr>\n",
       "    <tr>\n",
       "      <th>22</th>\n",
       "      <td>AGR3</td>\n",
       "      <td>I insult people.</td>\n",
       "    </tr>\n",
       "    <tr>\n",
       "      <th>23</th>\n",
       "      <td>AGR4</td>\n",
       "      <td>I sympathize with others' feelings.</td>\n",
       "    </tr>\n",
       "    <tr>\n",
       "      <th>24</th>\n",
       "      <td>AGR5</td>\n",
       "      <td>I am not interested in other people's problems.</td>\n",
       "    </tr>\n",
       "    <tr>\n",
       "      <th>25</th>\n",
       "      <td>AGR6</td>\n",
       "      <td>I have a soft heart.</td>\n",
       "    </tr>\n",
       "    <tr>\n",
       "      <th>26</th>\n",
       "      <td>AGR7</td>\n",
       "      <td>I am not really interested in others.</td>\n",
       "    </tr>\n",
       "    <tr>\n",
       "      <th>27</th>\n",
       "      <td>AGR8</td>\n",
       "      <td>I take time out for others.</td>\n",
       "    </tr>\n",
       "    <tr>\n",
       "      <th>28</th>\n",
       "      <td>AGR9</td>\n",
       "      <td>I feel others' emotions.</td>\n",
       "    </tr>\n",
       "    <tr>\n",
       "      <th>29</th>\n",
       "      <td>AGR10</td>\n",
       "      <td>I make people feel at ease.</td>\n",
       "    </tr>\n",
       "    <tr>\n",
       "      <th>30</th>\n",
       "      <td>CSN1</td>\n",
       "      <td>I am always prepared.</td>\n",
       "    </tr>\n",
       "    <tr>\n",
       "      <th>31</th>\n",
       "      <td>CSN2</td>\n",
       "      <td>I leave my belongings around.</td>\n",
       "    </tr>\n",
       "    <tr>\n",
       "      <th>32</th>\n",
       "      <td>CSN3</td>\n",
       "      <td>I pay attention to details.</td>\n",
       "    </tr>\n",
       "    <tr>\n",
       "      <th>33</th>\n",
       "      <td>CSN4</td>\n",
       "      <td>I make a mess of things.</td>\n",
       "    </tr>\n",
       "    <tr>\n",
       "      <th>34</th>\n",
       "      <td>CSN5</td>\n",
       "      <td>I get chores done right away.</td>\n",
       "    </tr>\n",
       "    <tr>\n",
       "      <th>35</th>\n",
       "      <td>CSN6</td>\n",
       "      <td>I often forget to put things back in their pro...</td>\n",
       "    </tr>\n",
       "    <tr>\n",
       "      <th>36</th>\n",
       "      <td>CSN7</td>\n",
       "      <td>I like order.</td>\n",
       "    </tr>\n",
       "    <tr>\n",
       "      <th>37</th>\n",
       "      <td>CSN8</td>\n",
       "      <td>I shirk my duties.</td>\n",
       "    </tr>\n",
       "    <tr>\n",
       "      <th>38</th>\n",
       "      <td>CSN9</td>\n",
       "      <td>I follow a schedule.</td>\n",
       "    </tr>\n",
       "    <tr>\n",
       "      <th>39</th>\n",
       "      <td>CSN10</td>\n",
       "      <td>I am exacting in my work.</td>\n",
       "    </tr>\n",
       "    <tr>\n",
       "      <th>40</th>\n",
       "      <td>OPN1</td>\n",
       "      <td>I have a rich vocabulary.</td>\n",
       "    </tr>\n",
       "    <tr>\n",
       "      <th>41</th>\n",
       "      <td>OPN2</td>\n",
       "      <td>I have difficulty understanding abstract ideas.</td>\n",
       "    </tr>\n",
       "    <tr>\n",
       "      <th>42</th>\n",
       "      <td>OPN3</td>\n",
       "      <td>I have a vivid imagination.</td>\n",
       "    </tr>\n",
       "    <tr>\n",
       "      <th>43</th>\n",
       "      <td>OPN4</td>\n",
       "      <td>I am not interested in abstract ideas.</td>\n",
       "    </tr>\n",
       "    <tr>\n",
       "      <th>44</th>\n",
       "      <td>OPN5</td>\n",
       "      <td>I have excellent ideas.</td>\n",
       "    </tr>\n",
       "    <tr>\n",
       "      <th>45</th>\n",
       "      <td>OPN6</td>\n",
       "      <td>I do not have a good imagination.</td>\n",
       "    </tr>\n",
       "    <tr>\n",
       "      <th>46</th>\n",
       "      <td>OPN7</td>\n",
       "      <td>I am quick to understand things.</td>\n",
       "    </tr>\n",
       "    <tr>\n",
       "      <th>47</th>\n",
       "      <td>OPN8</td>\n",
       "      <td>I use difficult words.</td>\n",
       "    </tr>\n",
       "    <tr>\n",
       "      <th>48</th>\n",
       "      <td>OPN9</td>\n",
       "      <td>I spend time reflecting on things.</td>\n",
       "    </tr>\n",
       "    <tr>\n",
       "      <th>49</th>\n",
       "      <td>OPN10</td>\n",
       "      <td>I am full of ideas.</td>\n",
       "    </tr>\n",
       "  </tbody>\n",
       "</table>\n",
       "</div>"
      ],
      "text/plain": [
       "     Code                                        Description\n",
       "0    EXT1                        I am the life of the party.\n",
       "1    EXT2                                I don't talk a lot.\n",
       "2    EXT3                  I feel comfortable around people.\n",
       "3    EXT4                          I keep in the background.\n",
       "4    EXT5                             I start conversations.\n",
       "5    EXT6                              I have little to say.\n",
       "6    EXT7    I talk to a lot of different people at parties.\n",
       "7    EXT8          I don't like to draw attention to myself.\n",
       "8    EXT9        I don't mind being the center of attention.\n",
       "9   EXT10                       I am quiet around strangers.\n",
       "10   EST1                         I get stressed out easily.\n",
       "11   EST2                     I am relaxed most of the time.\n",
       "12   EST3                              I worry about things.\n",
       "13   EST4                                I seldom feel blue.\n",
       "14   EST5                             I am easily disturbed.\n",
       "15   EST6                                I get upset easily.\n",
       "16   EST7                            I change my mood a lot.\n",
       "17   EST8                       I have frequent mood swings.\n",
       "18   EST9                            I get irritated easily.\n",
       "19  EST10                                 I often feel blue.\n",
       "20   AGR1                  I feel little concern for others.\n",
       "21   AGR2                         I am interested in people.\n",
       "22   AGR3                                   I insult people.\n",
       "23   AGR4                I sympathize with others' feelings.\n",
       "24   AGR5    I am not interested in other people's problems.\n",
       "25   AGR6                               I have a soft heart.\n",
       "26   AGR7              I am not really interested in others.\n",
       "27   AGR8                        I take time out for others.\n",
       "28   AGR9                           I feel others' emotions.\n",
       "29  AGR10                        I make people feel at ease.\n",
       "30   CSN1                              I am always prepared.\n",
       "31   CSN2                      I leave my belongings around.\n",
       "32   CSN3                        I pay attention to details.\n",
       "33   CSN4                           I make a mess of things.\n",
       "34   CSN5                      I get chores done right away.\n",
       "35   CSN6  I often forget to put things back in their pro...\n",
       "36   CSN7                                      I like order.\n",
       "37   CSN8                                 I shirk my duties.\n",
       "38   CSN9                               I follow a schedule.\n",
       "39  CSN10                          I am exacting in my work.\n",
       "40   OPN1                          I have a rich vocabulary.\n",
       "41   OPN2    I have difficulty understanding abstract ideas.\n",
       "42   OPN3                        I have a vivid imagination.\n",
       "43   OPN4             I am not interested in abstract ideas.\n",
       "44   OPN5                            I have excellent ideas.\n",
       "45   OPN6                  I do not have a good imagination.\n",
       "46   OPN7                   I am quick to understand things.\n",
       "47   OPN8                             I use difficult words.\n",
       "48   OPN9                 I spend time reflecting on things.\n",
       "49  OPN10                                I am full of ideas."
      ]
     },
     "execution_count": 5,
     "metadata": {},
     "output_type": "execute_result"
    }
   ],
   "source": [
    "# Examine codes for any nulls\n",
    "print(codes.isnull().sum())\n",
    "\n",
    "# Take meaningful subset, first 50 rows for the questions\n",
    "codes = codes[0:50]\n",
    "\n",
    "# Show all the questions\n",
    "codes"
   ]
  },
  {
   "cell_type": "markdown",
   "metadata": {},
   "source": [
    "#### Continuing the data preparation we will eliminate the missing data in the survey answers as well.  This is mostly blank lines at the end of the survey data csv file."
   ]
  },
  {
   "cell_type": "code",
   "execution_count": 6,
   "metadata": {},
   "outputs": [
    {
     "name": "stdout",
     "output_type": "stream",
     "text": [
      "EXT1                     1783\n",
      "EXT2                     1783\n",
      "EXT3                     1783\n",
      "EXT4                     1783\n",
      "EXT5                     1783\n",
      "EXT6                     1783\n",
      "EXT7                     1783\n",
      "EXT8                     1783\n",
      "EXT9                     1783\n",
      "EXT10                    1783\n",
      "EST1                     1783\n",
      "EST2                     1783\n",
      "EST3                     1783\n",
      "EST4                     1783\n",
      "EST5                     1783\n",
      "EST6                     1783\n",
      "EST7                     1783\n",
      "EST8                     1783\n",
      "EST9                     1783\n",
      "EST10                    1783\n",
      "AGR1                     1783\n",
      "AGR2                     1783\n",
      "AGR3                     1783\n",
      "AGR4                     1783\n",
      "AGR5                     1783\n",
      "AGR6                     1783\n",
      "AGR7                     1783\n",
      "AGR8                     1783\n",
      "AGR9                     1783\n",
      "AGR10                    1783\n",
      "                         ... \n",
      "CSN1_E                   1783\n",
      "CSN2_E                   1783\n",
      "CSN3_E                   1783\n",
      "CSN4_E                   1783\n",
      "CSN5_E                   1783\n",
      "CSN6_E                   1783\n",
      "CSN7_E                   1783\n",
      "CSN8_E                   1783\n",
      "CSN9_E                   1783\n",
      "CSN10_E                  1783\n",
      "OPN1_E                   1783\n",
      "OPN2_E                   1783\n",
      "OPN3_E                   1783\n",
      "OPN4_E                   1783\n",
      "OPN5_E                   1783\n",
      "OPN6_E                   1783\n",
      "OPN7_E                   1783\n",
      "OPN8_E                   1783\n",
      "OPN9_E                   1783\n",
      "OPN10_E                  1783\n",
      "dateload                    0\n",
      "screenw                  2066\n",
      "screenh                  2066\n",
      "introelapse              2066\n",
      "testelapse               1783\n",
      "endelapse                   0\n",
      "IPC                         0\n",
      "country                    77\n",
      "lat_appx_lots_of_err        0\n",
      "long_appx_lots_of_err       0\n",
      "Length: 110, dtype: int64\n"
     ]
    },
    {
     "data": {
      "text/plain": [
       "(1012050, 110)"
      ]
     },
     "execution_count": 6,
     "metadata": {},
     "output_type": "execute_result"
    }
   ],
   "source": [
    "# Examine questionnaire for nulls\n",
    "print(pers.isnull().sum())\n",
    "\n",
    "# Remove missing data, mostly trailing blank lines from the data file\n",
    "pers.dropna(inplace=True)\n",
    "\n",
    "# Show remaining shape\n",
    "pers.shape"
   ]
  },
  {
   "cell_type": "markdown",
   "metadata": {},
   "source": [
    "#### Continuing the data preparation, now let's just extract the questions/answers portion of the data, eliminating all the meta-data.  This will be useful later for modeling."
   ]
  },
  {
   "cell_type": "code",
   "execution_count": 7,
   "metadata": {},
   "outputs": [
    {
     "name": "stdout",
     "output_type": "stream",
     "text": [
      "(1012050, 50)\n"
     ]
    },
    {
     "data": {
      "text/html": [
       "<div>\n",
       "<style scoped>\n",
       "    .dataframe tbody tr th:only-of-type {\n",
       "        vertical-align: middle;\n",
       "    }\n",
       "\n",
       "    .dataframe tbody tr th {\n",
       "        vertical-align: top;\n",
       "    }\n",
       "\n",
       "    .dataframe thead th {\n",
       "        text-align: right;\n",
       "    }\n",
       "</style>\n",
       "<table border=\"1\" class=\"dataframe\">\n",
       "  <thead>\n",
       "    <tr style=\"text-align: right;\">\n",
       "      <th></th>\n",
       "      <th>EXT1</th>\n",
       "      <th>EXT2</th>\n",
       "      <th>EXT3</th>\n",
       "      <th>EXT4</th>\n",
       "      <th>EXT5</th>\n",
       "      <th>EXT6</th>\n",
       "      <th>EXT7</th>\n",
       "      <th>EXT8</th>\n",
       "      <th>EXT9</th>\n",
       "      <th>EXT10</th>\n",
       "      <th>...</th>\n",
       "      <th>OPN1</th>\n",
       "      <th>OPN2</th>\n",
       "      <th>OPN3</th>\n",
       "      <th>OPN4</th>\n",
       "      <th>OPN5</th>\n",
       "      <th>OPN6</th>\n",
       "      <th>OPN7</th>\n",
       "      <th>OPN8</th>\n",
       "      <th>OPN9</th>\n",
       "      <th>OPN10</th>\n",
       "    </tr>\n",
       "  </thead>\n",
       "  <tbody>\n",
       "    <tr>\n",
       "      <th>0</th>\n",
       "      <td>4.0</td>\n",
       "      <td>1.0</td>\n",
       "      <td>5.0</td>\n",
       "      <td>2.0</td>\n",
       "      <td>5.0</td>\n",
       "      <td>1.0</td>\n",
       "      <td>5.0</td>\n",
       "      <td>2.0</td>\n",
       "      <td>4.0</td>\n",
       "      <td>1.0</td>\n",
       "      <td>...</td>\n",
       "      <td>5.0</td>\n",
       "      <td>1.0</td>\n",
       "      <td>4.0</td>\n",
       "      <td>1.0</td>\n",
       "      <td>4.0</td>\n",
       "      <td>1.0</td>\n",
       "      <td>5.0</td>\n",
       "      <td>3.0</td>\n",
       "      <td>4.0</td>\n",
       "      <td>5.0</td>\n",
       "    </tr>\n",
       "    <tr>\n",
       "      <th>1</th>\n",
       "      <td>3.0</td>\n",
       "      <td>5.0</td>\n",
       "      <td>3.0</td>\n",
       "      <td>4.0</td>\n",
       "      <td>3.0</td>\n",
       "      <td>3.0</td>\n",
       "      <td>2.0</td>\n",
       "      <td>5.0</td>\n",
       "      <td>1.0</td>\n",
       "      <td>5.0</td>\n",
       "      <td>...</td>\n",
       "      <td>1.0</td>\n",
       "      <td>2.0</td>\n",
       "      <td>4.0</td>\n",
       "      <td>2.0</td>\n",
       "      <td>3.0</td>\n",
       "      <td>1.0</td>\n",
       "      <td>4.0</td>\n",
       "      <td>2.0</td>\n",
       "      <td>5.0</td>\n",
       "      <td>3.0</td>\n",
       "    </tr>\n",
       "    <tr>\n",
       "      <th>2</th>\n",
       "      <td>2.0</td>\n",
       "      <td>3.0</td>\n",
       "      <td>4.0</td>\n",
       "      <td>4.0</td>\n",
       "      <td>3.0</td>\n",
       "      <td>2.0</td>\n",
       "      <td>1.0</td>\n",
       "      <td>3.0</td>\n",
       "      <td>2.0</td>\n",
       "      <td>5.0</td>\n",
       "      <td>...</td>\n",
       "      <td>5.0</td>\n",
       "      <td>1.0</td>\n",
       "      <td>2.0</td>\n",
       "      <td>1.0</td>\n",
       "      <td>4.0</td>\n",
       "      <td>2.0</td>\n",
       "      <td>5.0</td>\n",
       "      <td>3.0</td>\n",
       "      <td>4.0</td>\n",
       "      <td>4.0</td>\n",
       "    </tr>\n",
       "    <tr>\n",
       "      <th>3</th>\n",
       "      <td>2.0</td>\n",
       "      <td>2.0</td>\n",
       "      <td>2.0</td>\n",
       "      <td>3.0</td>\n",
       "      <td>4.0</td>\n",
       "      <td>2.0</td>\n",
       "      <td>2.0</td>\n",
       "      <td>4.0</td>\n",
       "      <td>1.0</td>\n",
       "      <td>4.0</td>\n",
       "      <td>...</td>\n",
       "      <td>4.0</td>\n",
       "      <td>2.0</td>\n",
       "      <td>5.0</td>\n",
       "      <td>2.0</td>\n",
       "      <td>3.0</td>\n",
       "      <td>1.0</td>\n",
       "      <td>4.0</td>\n",
       "      <td>4.0</td>\n",
       "      <td>3.0</td>\n",
       "      <td>3.0</td>\n",
       "    </tr>\n",
       "    <tr>\n",
       "      <th>4</th>\n",
       "      <td>3.0</td>\n",
       "      <td>3.0</td>\n",
       "      <td>3.0</td>\n",
       "      <td>3.0</td>\n",
       "      <td>5.0</td>\n",
       "      <td>3.0</td>\n",
       "      <td>3.0</td>\n",
       "      <td>5.0</td>\n",
       "      <td>3.0</td>\n",
       "      <td>4.0</td>\n",
       "      <td>...</td>\n",
       "      <td>5.0</td>\n",
       "      <td>1.0</td>\n",
       "      <td>5.0</td>\n",
       "      <td>1.0</td>\n",
       "      <td>5.0</td>\n",
       "      <td>1.0</td>\n",
       "      <td>5.0</td>\n",
       "      <td>3.0</td>\n",
       "      <td>5.0</td>\n",
       "      <td>5.0</td>\n",
       "    </tr>\n",
       "  </tbody>\n",
       "</table>\n",
       "<p>5 rows × 50 columns</p>\n",
       "</div>"
      ],
      "text/plain": [
       "   EXT1  EXT2  EXT3  EXT4  EXT5  EXT6  EXT7  EXT8  EXT9  EXT10  ...  OPN1  \\\n",
       "0   4.0   1.0   5.0   2.0   5.0   1.0   5.0   2.0   4.0    1.0  ...   5.0   \n",
       "1   3.0   5.0   3.0   4.0   3.0   3.0   2.0   5.0   1.0    5.0  ...   1.0   \n",
       "2   2.0   3.0   4.0   4.0   3.0   2.0   1.0   3.0   2.0    5.0  ...   5.0   \n",
       "3   2.0   2.0   2.0   3.0   4.0   2.0   2.0   4.0   1.0    4.0  ...   4.0   \n",
       "4   3.0   3.0   3.0   3.0   5.0   3.0   3.0   5.0   3.0    4.0  ...   5.0   \n",
       "\n",
       "   OPN2  OPN3  OPN4  OPN5  OPN6  OPN7  OPN8  OPN9  OPN10  \n",
       "0   1.0   4.0   1.0   4.0   1.0   5.0   3.0   4.0    5.0  \n",
       "1   2.0   4.0   2.0   3.0   1.0   4.0   2.0   5.0    3.0  \n",
       "2   1.0   2.0   1.0   4.0   2.0   5.0   3.0   4.0    4.0  \n",
       "3   2.0   5.0   2.0   3.0   1.0   4.0   4.0   3.0    3.0  \n",
       "4   1.0   5.0   1.0   5.0   1.0   5.0   3.0   5.0    5.0  \n",
       "\n",
       "[5 rows x 50 columns]"
      ]
     },
     "execution_count": 7,
     "metadata": {},
     "output_type": "execute_result"
    }
   ],
   "source": [
    "# Extract just the questions portion\n",
    "questions = pers.loc[:, 'EXT1':'OPN10']\n",
    "\n",
    "# Show the questions shape and a sample\n",
    "print(questions.shape)\n",
    "questions.head()"
   ]
  },
  {
   "cell_type": "code",
   "execution_count": 23,
   "metadata": {},
   "outputs": [],
   "source": [
    "# Extract just the countries portion, will be useful later for modeling\n",
    "countries_cat = pers['country'].astype('category').cat.codes"
   ]
  },
  {
   "cell_type": "markdown",
   "metadata": {},
   "source": [
    "#### Let us switch back to data understanding in the process as we examine the data more closely."
   ]
  },
  {
   "cell_type": "markdown",
   "metadata": {},
   "source": [
    "#### To help us visualize the data, let's create some functions to create heatmaps and histograms"
   ]
  },
  {
   "cell_type": "code",
   "execution_count": 9,
   "metadata": {},
   "outputs": [],
   "source": [
    "import seaborn as sns\n",
    "\n",
    "# Create a function to show the heatmap\n",
    "def show_heatmap(data):\n",
    "    \"\"\" \n",
    "    For the given data, show the heatmap after computing the correlation\n",
    "    Parameters: \n",
    "    data (DataFrame): The input data we want a heatmap for\n",
    "  \n",
    "    Returns: \n",
    "    <Nothing> A heatmap will be displayed\n",
    "    \"\"\"\n",
    "    corr = data.corr()\n",
    "    sns.heatmap(corr)"
   ]
  },
  {
   "cell_type": "code",
   "execution_count": 10,
   "metadata": {},
   "outputs": [],
   "source": [
    "# Create a function to show a histogram plot\n",
    "def show_histogram(data, title):\n",
    "    \"\"\" \n",
    "    For the given data, show the histogram of values\n",
    "    Parameters: \n",
    "    data (DataFrame): The input data we want a histogram for\n",
    "    title (str):  The title of the histogram\n",
    "  \n",
    "    Returns: \n",
    "    <Nothing> A heatmap will be displayed\n",
    "    \"\"\"    \n",
    "    data.plot(kind=\"bar\", figsize=(28, 8));\n",
    "    plt.title(title);"
   ]
  },
  {
   "cell_type": "markdown",
   "metadata": {},
   "source": [
    "#### Continuing with the data understanding, let's look at the correlation amongst the questions/answers."
   ]
  },
  {
   "cell_type": "code",
   "execution_count": 11,
   "metadata": {},
   "outputs": [
    {
     "data": {
      "text/html": [
       "<div>\n",
       "<style scoped>\n",
       "    .dataframe tbody tr th:only-of-type {\n",
       "        vertical-align: middle;\n",
       "    }\n",
       "\n",
       "    .dataframe tbody tr th {\n",
       "        vertical-align: top;\n",
       "    }\n",
       "\n",
       "    .dataframe thead th {\n",
       "        text-align: right;\n",
       "    }\n",
       "</style>\n",
       "<table border=\"1\" class=\"dataframe\">\n",
       "  <thead>\n",
       "    <tr style=\"text-align: right;\">\n",
       "      <th></th>\n",
       "      <th>EXT1</th>\n",
       "      <th>EXT2</th>\n",
       "      <th>EXT3</th>\n",
       "      <th>EXT4</th>\n",
       "      <th>EXT5</th>\n",
       "      <th>EXT6</th>\n",
       "      <th>EXT7</th>\n",
       "      <th>EXT8</th>\n",
       "      <th>EXT9</th>\n",
       "      <th>EXT10</th>\n",
       "      <th>...</th>\n",
       "      <th>OPN1</th>\n",
       "      <th>OPN2</th>\n",
       "      <th>OPN3</th>\n",
       "      <th>OPN4</th>\n",
       "      <th>OPN5</th>\n",
       "      <th>OPN6</th>\n",
       "      <th>OPN7</th>\n",
       "      <th>OPN8</th>\n",
       "      <th>OPN9</th>\n",
       "      <th>OPN10</th>\n",
       "    </tr>\n",
       "  </thead>\n",
       "  <tbody>\n",
       "    <tr>\n",
       "      <th>EXT1</th>\n",
       "      <td>1.000000</td>\n",
       "      <td>-0.439176</td>\n",
       "      <td>0.464833</td>\n",
       "      <td>-0.486689</td>\n",
       "      <td>0.478206</td>\n",
       "      <td>-0.323423</td>\n",
       "      <td>0.581693</td>\n",
       "      <td>-0.368139</td>\n",
       "      <td>0.470624</td>\n",
       "      <td>-0.410394</td>\n",
       "      <td>...</td>\n",
       "      <td>0.033424</td>\n",
       "      <td>0.002407</td>\n",
       "      <td>0.079600</td>\n",
       "      <td>0.020569</td>\n",
       "      <td>0.186461</td>\n",
       "      <td>-0.059893</td>\n",
       "      <td>0.074705</td>\n",
       "      <td>0.017170</td>\n",
       "      <td>-0.064237</td>\n",
       "      <td>0.167155</td>\n",
       "    </tr>\n",
       "    <tr>\n",
       "      <th>EXT2</th>\n",
       "      <td>-0.439176</td>\n",
       "      <td>1.000000</td>\n",
       "      <td>-0.412273</td>\n",
       "      <td>0.552552</td>\n",
       "      <td>-0.500538</td>\n",
       "      <td>0.541775</td>\n",
       "      <td>-0.444535</td>\n",
       "      <td>0.397786</td>\n",
       "      <td>-0.364068</td>\n",
       "      <td>0.490812</td>\n",
       "      <td>...</td>\n",
       "      <td>-0.026528</td>\n",
       "      <td>0.055771</td>\n",
       "      <td>-0.020358</td>\n",
       "      <td>0.041261</td>\n",
       "      <td>-0.094361</td>\n",
       "      <td>0.093033</td>\n",
       "      <td>-0.016234</td>\n",
       "      <td>-0.016693</td>\n",
       "      <td>0.080863</td>\n",
       "      <td>-0.106235</td>\n",
       "    </tr>\n",
       "    <tr>\n",
       "      <th>EXT3</th>\n",
       "      <td>0.464833</td>\n",
       "      <td>-0.412273</td>\n",
       "      <td>1.000000</td>\n",
       "      <td>-0.433449</td>\n",
       "      <td>0.554566</td>\n",
       "      <td>-0.321947</td>\n",
       "      <td>0.540954</td>\n",
       "      <td>-0.291678</td>\n",
       "      <td>0.422393</td>\n",
       "      <td>-0.433824</td>\n",
       "      <td>...</td>\n",
       "      <td>0.038616</td>\n",
       "      <td>-0.025293</td>\n",
       "      <td>0.033988</td>\n",
       "      <td>0.014633</td>\n",
       "      <td>0.175156</td>\n",
       "      <td>-0.034684</td>\n",
       "      <td>0.135601</td>\n",
       "      <td>-0.026898</td>\n",
       "      <td>-0.040517</td>\n",
       "      <td>0.139018</td>\n",
       "    </tr>\n",
       "    <tr>\n",
       "      <th>EXT4</th>\n",
       "      <td>-0.486689</td>\n",
       "      <td>0.552552</td>\n",
       "      <td>-0.433449</td>\n",
       "      <td>1.000000</td>\n",
       "      <td>-0.459715</td>\n",
       "      <td>0.457623</td>\n",
       "      <td>-0.465724</td>\n",
       "      <td>0.488740</td>\n",
       "      <td>-0.434490</td>\n",
       "      <td>0.538443</td>\n",
       "      <td>...</td>\n",
       "      <td>-0.004476</td>\n",
       "      <td>0.083356</td>\n",
       "      <td>0.051647</td>\n",
       "      <td>0.053089</td>\n",
       "      <td>-0.101086</td>\n",
       "      <td>0.082407</td>\n",
       "      <td>-0.023546</td>\n",
       "      <td>0.014438</td>\n",
       "      <td>0.139391</td>\n",
       "      <td>-0.079120</td>\n",
       "    </tr>\n",
       "    <tr>\n",
       "      <th>EXT5</th>\n",
       "      <td>0.478206</td>\n",
       "      <td>-0.500538</td>\n",
       "      <td>0.554566</td>\n",
       "      <td>-0.459715</td>\n",
       "      <td>1.000000</td>\n",
       "      <td>-0.409655</td>\n",
       "      <td>0.588810</td>\n",
       "      <td>-0.312272</td>\n",
       "      <td>0.421797</td>\n",
       "      <td>-0.486922</td>\n",
       "      <td>...</td>\n",
       "      <td>0.090748</td>\n",
       "      <td>-0.036565</td>\n",
       "      <td>0.098615</td>\n",
       "      <td>-0.021563</td>\n",
       "      <td>0.220704</td>\n",
       "      <td>-0.076758</td>\n",
       "      <td>0.130984</td>\n",
       "      <td>0.058280</td>\n",
       "      <td>0.026923</td>\n",
       "      <td>0.208603</td>\n",
       "    </tr>\n",
       "  </tbody>\n",
       "</table>\n",
       "<p>5 rows × 50 columns</p>\n",
       "</div>"
      ],
      "text/plain": [
       "          EXT1      EXT2      EXT3      EXT4      EXT5      EXT6      EXT7  \\\n",
       "EXT1  1.000000 -0.439176  0.464833 -0.486689  0.478206 -0.323423  0.581693   \n",
       "EXT2 -0.439176  1.000000 -0.412273  0.552552 -0.500538  0.541775 -0.444535   \n",
       "EXT3  0.464833 -0.412273  1.000000 -0.433449  0.554566 -0.321947  0.540954   \n",
       "EXT4 -0.486689  0.552552 -0.433449  1.000000 -0.459715  0.457623 -0.465724   \n",
       "EXT5  0.478206 -0.500538  0.554566 -0.459715  1.000000 -0.409655  0.588810   \n",
       "\n",
       "          EXT8      EXT9     EXT10  ...      OPN1      OPN2      OPN3  \\\n",
       "EXT1 -0.368139  0.470624 -0.410394  ...  0.033424  0.002407  0.079600   \n",
       "EXT2  0.397786 -0.364068  0.490812  ... -0.026528  0.055771 -0.020358   \n",
       "EXT3 -0.291678  0.422393 -0.433824  ...  0.038616 -0.025293  0.033988   \n",
       "EXT4  0.488740 -0.434490  0.538443  ... -0.004476  0.083356  0.051647   \n",
       "EXT5 -0.312272  0.421797 -0.486922  ...  0.090748 -0.036565  0.098615   \n",
       "\n",
       "          OPN4      OPN5      OPN6      OPN7      OPN8      OPN9     OPN10  \n",
       "EXT1  0.020569  0.186461 -0.059893  0.074705  0.017170 -0.064237  0.167155  \n",
       "EXT2  0.041261 -0.094361  0.093033 -0.016234 -0.016693  0.080863 -0.106235  \n",
       "EXT3  0.014633  0.175156 -0.034684  0.135601 -0.026898 -0.040517  0.139018  \n",
       "EXT4  0.053089 -0.101086  0.082407 -0.023546  0.014438  0.139391 -0.079120  \n",
       "EXT5 -0.021563  0.220704 -0.076758  0.130984  0.058280  0.026923  0.208603  \n",
       "\n",
       "[5 rows x 50 columns]"
      ]
     },
     "execution_count": 11,
     "metadata": {},
     "output_type": "execute_result"
    }
   ],
   "source": [
    "# Compute the correlation\n",
    "corr = questions.corr()\n",
    "corr.head()"
   ]
  },
  {
   "cell_type": "markdown",
   "metadata": {},
   "source": [
    "#### Based on this heatmap below you can see that there are 5 correlated boxes of questions along the diagonal.  The orange and black colors in those boxes show that there is a strong positive correlation for some of the questions in the group for orange and a strong negative correlation for some of the questions in the group for black."
   ]
  },
  {
   "cell_type": "code",
   "execution_count": 12,
   "metadata": {},
   "outputs": [
    {
     "data": {
      "image/png": "[encoded data removed]",
      "text/plain": [
       "<Figure size 432x288 with 2 Axes>"
      ]
     },
     "metadata": {},
     "output_type": "display_data"
    }
   ],
   "source": [
    "show_heatmap(questions)"
   ]
  },
  {
   "cell_type": "markdown",
   "metadata": {},
   "source": [
    "### Based on the table below you can see which survey questions were left blank most often.  It seems that some of the stronger statements are the ones people had the most difficulty in answering."
   ]
  },
  {
   "cell_type": "code",
   "execution_count": 13,
   "metadata": {},
   "outputs": [
    {
     "name": "stdout",
     "output_type": "stream",
     "text": [
      "      Missing Answers             Description\n",
      "CSN1            12174   I am always prepared.\n",
      "EST6            10837     I get upset easily.\n",
      "EST4            10640     I seldom feel blue.\n",
      "AGR6            10348    I have a soft heart.\n",
      "EXT5             9761  I start conversations.\n",
      "      Missing Answers                                      Description\n",
      "OPN2             5936  I have difficulty understanding abstract ideas.\n",
      "EST3             5506                            I worry about things.\n",
      "AGR3             5013                                 I insult people.\n",
      "AGR1             4952                I feel little concern for others.\n",
      "EXT1             3717                      I am the life of the party.\n"
     ]
    },
    {
     "data": {
      "image/png": "[encoded data removed]",
      "text/plain": [
       "<Figure size 2016x576 with 1 Axes>"
      ]
     },
     "metadata": {},
     "output_type": "display_data"
    }
   ],
   "source": [
    "# Find how many zeros are in the survey representing missing answers\n",
    "zeros = (questions == 0.0).sum().to_frame(name='Missing Answers')\n",
    "\n",
    "# Show which questions had the most missing answers\n",
    "codes = codes.set_index('Code')\n",
    "codes.head()\n",
    "zeros_sorted = zeros.join(codes).sort_values(by='Missing Answers', ascending=False)\n",
    "print(zeros_sorted.head())\n",
    "print(zeros_sorted.tail())\n",
    "\n",
    "# Plot a histogram for the missing answers\n",
    "show_histogram(zeros_sorted, \"How many missing answers per question?\")"
   ]
  },
  {
   "cell_type": "markdown",
   "metadata": {},
   "source": [
    "#### Continuing with data understanding, now let's look at the countries involved with the survey. "
   ]
  },
  {
   "cell_type": "markdown",
   "metadata": {},
   "source": [
    "### Based on the histogram below, you can see that the respondents mostly came from the US and a few other major countries with far fewer responses from other countries."
   ]
  },
  {
   "cell_type": "code",
   "execution_count": 14,
   "metadata": {},
   "outputs": [
    {
     "data": {
      "text/plain": [
       "US    545414\n",
       "GB     66373\n",
       "CA     61751\n",
       "AU     49595\n",
       "PH     19839\n",
       "Name: country, dtype: int64"
      ]
     },
     "execution_count": 14,
     "metadata": {},
     "output_type": "execute_result"
    },
    {
     "data": {
      "image/png": "[encoded data removed]",
      "text/plain": [
       "<Figure size 2016x576 with 1 Axes>"
      ]
     },
     "metadata": {},
     "output_type": "display_data"
    }
   ],
   "source": [
    "# Let's show the countries involved in the survey\n",
    "countries = pers['country'].value_counts()\n",
    "\n",
    "show_histogram(countries/pers.shape[0], \"What country are you from?\")\n",
    "countries.head()"
   ]
  },
  {
   "cell_type": "markdown",
   "metadata": {},
   "source": [
    "#### Continuing with data understanding, let's look at the time spent on the main survey below.  You can see the wide variance between respondents who took 100 seconds to complete the survey versus 4,000 or more seconds to complete it."
   ]
  },
  {
   "cell_type": "code",
   "execution_count": 15,
   "metadata": {},
   "outputs": [],
   "source": [
    "# Find the time spent on the survey for various countries\n",
    "intro = pers.groupby('country')['introelapse'].mean().sort_values(ascending=False)\n",
    "test = pers.groupby('country')['testelapse'].mean().sort_values(ascending=False)\n",
    "end = pers.groupby('country')['endelapse'].mean().sort_values(ascending=False)"
   ]
  },
  {
   "cell_type": "code",
   "execution_count": 16,
   "metadata": {},
   "outputs": [
    {
     "name": "stdout",
     "output_type": "stream",
     "text": [
      "country\n",
      "AF    27574.018519\n",
      "MV     8276.695122\n",
      "JE     5780.888889\n",
      "UA     5484.616622\n",
      "VC     4197.944444\n",
      "Name: testelapse, dtype: float64\n",
      "country\n",
      "BT    207.785714\n",
      "VU    191.571429\n",
      "CD    189.000000\n",
      "BF    155.000000\n",
      "MS    101.500000\n",
      "Name: testelapse, dtype: float64\n"
     ]
    }
   ],
   "source": [
    "# show the top and bottom countries in terms of time spent in the test\n",
    "print(test.head())\n",
    "print(test.tail())"
   ]
  },
  {
   "cell_type": "markdown",
   "metadata": {},
   "source": [
    "#### Continuing with the data understanding phase, let's now look at the screen sizes for the respondents by country.  Does a particular technology platform cause a wide difference between countries, e.g. mobile phone versus laptop or desktop computer?"
   ]
  },
  {
   "cell_type": "code",
   "execution_count": 17,
   "metadata": {},
   "outputs": [],
   "source": [
    "# Find the average screen sizes for each country\n",
    "width = pers.groupby('country')['screenw'].mean()\n",
    "height = pers.groupby('country')['screenh'].mean()\n",
    "dim = pd.concat([height, width], axis=1)"
   ]
  },
  {
   "cell_type": "markdown",
   "metadata": {},
   "source": [
    "#### The below likely shows the different devices that are prevalent in each country from mobile phones to desktop computers.  This also shows how advanced those devices are with higher resolutions indicating the latest technology is being used with higher definition screens"
   ]
  },
  {
   "cell_type": "code",
   "execution_count": 18,
   "metadata": {},
   "outputs": [
    {
     "name": "stdout",
     "output_type": "stream",
     "text": [
      "            screenh     screenw\n",
      "country                        \n",
      "FK       568.000000  320.000000\n",
      "SM       640.000000  360.000000\n",
      "GQ       640.000000  360.000000\n",
      "MR       801.333333  487.666667\n",
      "HT       709.266667  719.133333\n",
      "             screenh  screenw\n",
      "country                      \n",
      "SH       1050.000000   1680.0\n",
      "MF       1050.000000   1680.0\n",
      "CU        960.666667   1689.5\n",
      "AQ       1140.000000   1920.0\n",
      "MS       1080.000000   1920.0\n",
      "            screenh     screenw\n",
      "country                        \n",
      "FK       568.000000  320.000000\n",
      "GQ       640.000000  360.000000\n",
      "SM       640.000000  360.000000\n",
      "CG       685.333333  988.666667\n",
      "GM       701.900000  977.600000\n",
      "             screenh  screenw\n",
      "country                      \n",
      "CU        960.666667   1689.5\n",
      "MF       1050.000000   1680.0\n",
      "SH       1050.000000   1680.0\n",
      "MS       1080.000000   1920.0\n",
      "AQ       1140.000000   1920.0\n"
     ]
    }
   ],
   "source": [
    "# Show the top and bottom countries for the dimensions\n",
    "print(dim.sort_values('screenw').head())\n",
    "print(dim.sort_values('screenw').tail())\n",
    "print(dim.sort_values('screenh').head())\n",
    "print(dim.sort_values('screenh').tail())"
   ]
  },
  {
   "cell_type": "markdown",
   "metadata": {},
   "source": [
    "## CRISP-DM:  Data Modeling\n",
    "\n",
    "Now we will move on to the data modeling phase of CRISP-DM.  Here we will model the data using various models and try to predict using that model.  \n",
    "\n",
    "Now let us try to predict the country based on the survey answers.  We will use the question answers to predict various meta-data from the survey results."
   ]
  },
  {
   "cell_type": "markdown",
   "metadata": {},
   "source": [
    "#### Let's create a function to split the data into training and test data sets, hiding some of the details"
   ]
  },
  {
   "cell_type": "code",
   "execution_count": 19,
   "metadata": {},
   "outputs": [],
   "source": [
    "from sklearn.model_selection import train_test_split\n",
    "\n",
    "# Create a function to split the test and train data, hiding some of the details\n",
    "def split_data(inputs, outputs):\n",
    "    \"\"\" \n",
    "    Split data for training and testing for use with regression models.\n",
    "  \n",
    "    Parameters: \n",
    "    inputs (DataFrame): The input data we are predicting with.\n",
    "    outputs (DataFrame):  The output we are trying to predict\n",
    "  \n",
    "    Returns: \n",
    "    (X_train, X_test, y_train, y_test): The data split randomly into the training and data sets inputs and ouputs\n",
    "    \"\"\"\n",
    "    return train_test_split(inputs, outputs, test_size=0.3, random_state=42)"
   ]
  },
  {
   "cell_type": "markdown",
   "metadata": {},
   "source": [
    "#### Let's also create a function to print out the model results, showing the final accuracy score"
   ]
  },
  {
   "cell_type": "code",
   "execution_count": 20,
   "metadata": {},
   "outputs": [],
   "source": [
    "# Show accuracy function to print the model's results\n",
    "def show_accuracy(output, output_predicted):\n",
    "    \"\"\" \n",
    "    Show the model's accuracy based on outputs expected versus predicted.\n",
    "    \n",
    "    Parameters: \n",
    "    output (DataFrame): The expected output values.\n",
    "    output_predicted (DataFrame):  The predicted output values.\n",
    "  \n",
    "    Returns: \n",
    "    Nothing.  Prints the accuracy score.\n",
    "    \"\"\"\n",
    "    print(\"Accuracy score:  \", accuracy_score(output, output_predicted))"
   ]
  },
  {
   "cell_type": "markdown",
   "metadata": {},
   "source": [
    "#### Continuing with data modeling, let's try to predict the country of the respondent based on the questions using LogisticRegression from scikit-learn"
   ]
  },
  {
   "cell_type": "code",
   "execution_count": 24,
   "metadata": {},
   "outputs": [],
   "source": [
    "# questions has the question data\n",
    "# countries has the country data\n",
    "\n",
    "# split the data into training and test data\n",
    "X_train, X_test, y_train, y_test = split_data(questions, countries_cat)"
   ]
  },
  {
   "cell_type": "code",
   "execution_count": 25,
   "metadata": {},
   "outputs": [
    {
     "name": "stderr",
     "output_type": "stream",
     "text": [
      "[Parallel(n_jobs=1)]: Using backend SequentialBackend with 1 concurrent workers.\n",
      "/home/ec2-user/anaconda3/envs/python3/lib/python3.6/site-packages/sklearn/linear_model/logistic.py:758: ConvergenceWarning: lbfgs failed to converge. Increase the number of iterations.\n",
      "  \"of iterations.\", ConvergenceWarning)\n",
      "[Parallel(n_jobs=1)]: Done   1 out of   1 | elapsed: 11.9min remaining:    0.0s\n",
      "[Parallel(n_jobs=1)]: Done   1 out of   1 | elapsed: 11.9min finished\n"
     ]
    },
    {
     "data": {
      "text/plain": [
       "LogisticRegression(C=1.0, class_weight=None, dual=False, fit_intercept=True,\n",
       "          intercept_scaling=1, max_iter=100, multi_class='auto',\n",
       "          n_jobs=None, penalty='l2', random_state=None, solver='lbfgs',\n",
       "          tol=0.0001, verbose=10, warm_start=False)"
      ]
     },
     "execution_count": 25,
     "metadata": {},
     "output_type": "execute_result"
    }
   ],
   "source": [
    "from sklearn.linear_model import LogisticRegression\n",
    "\n",
    "# Create and fit the logistic regression model, perfect for classification prediction\n",
    "log_model = LogisticRegression(solver='lbfgs', multi_class='auto', verbose=10, max_iter=100)\n",
    "log_model.fit(X_train, y_train)"
   ]
  },
  {
   "cell_type": "markdown",
   "metadata": {},
   "source": [
    "## CRISP-DM:  Evaluate the Results\n",
    "\n",
    "In this final phase of CRISP-DM for this project, we will evaluate the results of the model we created using the survey answers.  We will predict various outputs and compare them with the expected outputs to come up with a model accuracy score."
   ]
  },
  {
   "cell_type": "markdown",
   "metadata": {},
   "source": [
    "#### Here we will predict the country and evaluate the results."
   ]
  },
  {
   "cell_type": "markdown",
   "metadata": {},
   "source": [
    "#### The accuracy of our model is 53.8%, ok but not great.  This seems to indicate that the survey answers cannot help pinpoint a person to a particular country very well.  Could it be that people really are unique all over the world?  Let's try to predict using a couple of other model types as well."
   ]
  },
  {
   "cell_type": "code",
   "execution_count": 26,
   "metadata": {},
   "outputs": [
    {
     "name": "stdout",
     "output_type": "stream",
     "text": [
      "Accuracy score:   0.53807947565173\n"
     ]
    }
   ],
   "source": [
    "from sklearn.metrics import accuracy_score\n",
    "\n",
    "# Predict based on the model\n",
    "y_test_preds = log_model.predict(X_test) \n",
    "\n",
    "# Print the results\n",
    "show_accuracy(y_test, y_test_preds)"
   ]
  },
  {
   "cell_type": "markdown",
   "metadata": {},
   "source": [
    "#### Continuing data modeling, let's try to use the K Nearest Neighbors Classifier to predict country\n",
    "\n",
    "We need to look at only a subset of the data as KNN takes much too long to make predictions."
   ]
  },
  {
   "cell_type": "code",
   "execution_count": 27,
   "metadata": {},
   "outputs": [
    {
     "data": {
      "text/plain": [
       "KNeighborsClassifier(algorithm='auto', leaf_size=30, metric='minkowski',\n",
       "           metric_params=None, n_jobs=None, n_neighbors=223, p=2,\n",
       "           weights='uniform')"
      ]
     },
     "execution_count": 27,
     "metadata": {},
     "output_type": "execute_result"
    }
   ],
   "source": [
    "from sklearn.neighbors import KNeighborsClassifier\n",
    "\n",
    "# Create and fit the KNN model, perfect for classification prediction\n",
    "# Only use a subset of the training data as KNN is very slow!!\n",
    "knn = KNeighborsClassifier(n_neighbors=len(countries_cat.unique()))\n",
    "knn.fit(X_train[:100000], y_train[:100000])"
   ]
  },
  {
   "cell_type": "markdown",
   "metadata": {},
   "source": [
    "#### Now we are evaluating the results of the KNN classifier."
   ]
  },
  {
   "cell_type": "markdown",
   "metadata": {},
   "source": [
    "#### KNN performed slightly worse to logistic regression, but in line with 52.8% accuracy."
   ]
  },
  {
   "cell_type": "code",
   "execution_count": 28,
   "metadata": {},
   "outputs": [
    {
     "name": "stdout",
     "output_type": "stream",
     "text": [
      "Accuracy score:   0.528\n"
     ]
    }
   ],
   "source": [
    "from sklearn.metrics import accuracy_score\n",
    "\n",
    "y_test_preds = knn.predict(X_test[:1000])\n",
    "\n",
    "show_accuracy(y_test[:1000], y_test_preds[:1000])"
   ]
  },
  {
   "cell_type": "markdown",
   "metadata": {},
   "source": [
    "### Back to data modeling, now let's try a final classifier:  the decision tree classifer"
   ]
  },
  {
   "cell_type": "code",
   "execution_count": 29,
   "metadata": {},
   "outputs": [
    {
     "data": {
      "text/plain": [
       "DecisionTreeClassifier(class_weight=None, criterion='gini', max_depth=None,\n",
       "            max_features=None, max_leaf_nodes=None,\n",
       "            min_impurity_decrease=0.0, min_impurity_split=None,\n",
       "            min_samples_leaf=1, min_samples_split=2,\n",
       "            min_weight_fraction_leaf=0.0, presort=False, random_state=None,\n",
       "            splitter='best')"
      ]
     },
     "execution_count": 29,
     "metadata": {},
     "output_type": "execute_result"
    }
   ],
   "source": [
    "from sklearn.tree import DecisionTreeClassifier\n",
    "\n",
    "dt_model = DecisionTreeClassifier()\n",
    "dt_model.fit(X_train, y_train)"
   ]
  },
  {
   "cell_type": "markdown",
   "metadata": {},
   "source": [
    "#### Now let's evaluate the results of the decision tree classifier."
   ]
  },
  {
   "cell_type": "markdown",
   "metadata": {},
   "source": [
    "#### Decision tree was the worst performed with only 31.7% accuracy."
   ]
  },
  {
   "cell_type": "code",
   "execution_count": 30,
   "metadata": {},
   "outputs": [
    {
     "name": "stdout",
     "output_type": "stream",
     "text": [
      "Accuracy score:   0.3171747113943646\n"
     ]
    }
   ],
   "source": [
    "from sklearn.metrics import accuracy_score\n",
    "\n",
    "y_test_preds = dt_model.predict(X_test)\n",
    "\n",
    "show_accuracy(y_test, y_test_preds)"
   ]
  },
  {
   "cell_type": "markdown",
   "metadata": {},
   "source": [
    "#### Now let's try to only predict based on the top 20 columns that are correlated with the country. "
   ]
  },
  {
   "cell_type": "markdown",
   "metadata": {},
   "source": [
    "#### To do this first we will do some data preparation in order to isolate the top 20 correlated questions."
   ]
  },
  {
   "cell_type": "code",
   "execution_count": 31,
   "metadata": {},
   "outputs": [
    {
     "data": {
      "text/html": [
       "<div>\n",
       "<style scoped>\n",
       "    .dataframe tbody tr th:only-of-type {\n",
       "        vertical-align: middle;\n",
       "    }\n",
       "\n",
       "    .dataframe tbody tr th {\n",
       "        vertical-align: top;\n",
       "    }\n",
       "\n",
       "    .dataframe thead th {\n",
       "        text-align: right;\n",
       "    }\n",
       "</style>\n",
       "<table border=\"1\" class=\"dataframe\">\n",
       "  <thead>\n",
       "    <tr style=\"text-align: right;\">\n",
       "      <th></th>\n",
       "      <th>EXT1</th>\n",
       "      <th>EXT2</th>\n",
       "      <th>EXT3</th>\n",
       "      <th>EXT4</th>\n",
       "      <th>EXT5</th>\n",
       "      <th>EXT6</th>\n",
       "      <th>EXT7</th>\n",
       "      <th>EXT8</th>\n",
       "      <th>EXT9</th>\n",
       "      <th>EXT10</th>\n",
       "      <th>...</th>\n",
       "      <th>OPN2</th>\n",
       "      <th>OPN3</th>\n",
       "      <th>OPN4</th>\n",
       "      <th>OPN5</th>\n",
       "      <th>OPN6</th>\n",
       "      <th>OPN7</th>\n",
       "      <th>OPN8</th>\n",
       "      <th>OPN9</th>\n",
       "      <th>OPN10</th>\n",
       "      <th>country</th>\n",
       "    </tr>\n",
       "  </thead>\n",
       "  <tbody>\n",
       "    <tr>\n",
       "      <th>0</th>\n",
       "      <td>4</td>\n",
       "      <td>1</td>\n",
       "      <td>5</td>\n",
       "      <td>2</td>\n",
       "      <td>5</td>\n",
       "      <td>1</td>\n",
       "      <td>5</td>\n",
       "      <td>2</td>\n",
       "      <td>4</td>\n",
       "      <td>1</td>\n",
       "      <td>...</td>\n",
       "      <td>1</td>\n",
       "      <td>4</td>\n",
       "      <td>1</td>\n",
       "      <td>4</td>\n",
       "      <td>1</td>\n",
       "      <td>5</td>\n",
       "      <td>3</td>\n",
       "      <td>4</td>\n",
       "      <td>5</td>\n",
       "      <td>69</td>\n",
       "    </tr>\n",
       "    <tr>\n",
       "      <th>1</th>\n",
       "      <td>3</td>\n",
       "      <td>5</td>\n",
       "      <td>3</td>\n",
       "      <td>4</td>\n",
       "      <td>3</td>\n",
       "      <td>3</td>\n",
       "      <td>2</td>\n",
       "      <td>5</td>\n",
       "      <td>1</td>\n",
       "      <td>5</td>\n",
       "      <td>...</td>\n",
       "      <td>2</td>\n",
       "      <td>4</td>\n",
       "      <td>2</td>\n",
       "      <td>3</td>\n",
       "      <td>1</td>\n",
       "      <td>4</td>\n",
       "      <td>2</td>\n",
       "      <td>5</td>\n",
       "      <td>3</td>\n",
       "      <td>144</td>\n",
       "    </tr>\n",
       "    <tr>\n",
       "      <th>2</th>\n",
       "      <td>2</td>\n",
       "      <td>3</td>\n",
       "      <td>4</td>\n",
       "      <td>4</td>\n",
       "      <td>3</td>\n",
       "      <td>2</td>\n",
       "      <td>1</td>\n",
       "      <td>3</td>\n",
       "      <td>2</td>\n",
       "      <td>5</td>\n",
       "      <td>...</td>\n",
       "      <td>1</td>\n",
       "      <td>2</td>\n",
       "      <td>1</td>\n",
       "      <td>4</td>\n",
       "      <td>2</td>\n",
       "      <td>5</td>\n",
       "      <td>3</td>\n",
       "      <td>4</td>\n",
       "      <td>4</td>\n",
       "      <td>69</td>\n",
       "    </tr>\n",
       "    <tr>\n",
       "      <th>3</th>\n",
       "      <td>2</td>\n",
       "      <td>2</td>\n",
       "      <td>2</td>\n",
       "      <td>3</td>\n",
       "      <td>4</td>\n",
       "      <td>2</td>\n",
       "      <td>2</td>\n",
       "      <td>4</td>\n",
       "      <td>1</td>\n",
       "      <td>4</td>\n",
       "      <td>...</td>\n",
       "      <td>2</td>\n",
       "      <td>5</td>\n",
       "      <td>2</td>\n",
       "      <td>3</td>\n",
       "      <td>1</td>\n",
       "      <td>4</td>\n",
       "      <td>4</td>\n",
       "      <td>3</td>\n",
       "      <td>3</td>\n",
       "      <td>69</td>\n",
       "    </tr>\n",
       "    <tr>\n",
       "      <th>4</th>\n",
       "      <td>3</td>\n",
       "      <td>3</td>\n",
       "      <td>3</td>\n",
       "      <td>3</td>\n",
       "      <td>5</td>\n",
       "      <td>3</td>\n",
       "      <td>3</td>\n",
       "      <td>5</td>\n",
       "      <td>3</td>\n",
       "      <td>4</td>\n",
       "      <td>...</td>\n",
       "      <td>1</td>\n",
       "      <td>5</td>\n",
       "      <td>1</td>\n",
       "      <td>5</td>\n",
       "      <td>1</td>\n",
       "      <td>5</td>\n",
       "      <td>3</td>\n",
       "      <td>5</td>\n",
       "      <td>5</td>\n",
       "      <td>103</td>\n",
       "    </tr>\n",
       "  </tbody>\n",
       "</table>\n",
       "<p>5 rows × 51 columns</p>\n",
       "</div>"
      ],
      "text/plain": [
       "   EXT1  EXT2  EXT3  EXT4  EXT5  EXT6  EXT7  EXT8  EXT9  EXT10  ...  OPN2  \\\n",
       "0     4     1     5     2     5     1     5     2     4      1  ...     1   \n",
       "1     3     5     3     4     3     3     2     5     1      5  ...     2   \n",
       "2     2     3     4     4     3     2     1     3     2      5  ...     1   \n",
       "3     2     2     2     3     4     2     2     4     1      4  ...     2   \n",
       "4     3     3     3     3     5     3     3     5     3      4  ...     1   \n",
       "\n",
       "   OPN3  OPN4  OPN5  OPN6  OPN7  OPN8  OPN9  OPN10  country  \n",
       "0     4     1     4     1     5     3     4      5       69  \n",
       "1     4     2     3     1     4     2     5      3      144  \n",
       "2     2     1     4     2     5     3     4      4       69  \n",
       "3     5     2     3     1     4     4     3      3       69  \n",
       "4     5     1     5     1     5     3     5      5      103  \n",
       "\n",
       "[5 rows x 51 columns]"
      ]
     },
     "execution_count": 31,
     "metadata": {},
     "output_type": "execute_result"
    }
   ],
   "source": [
    "# Get the questions and country together\n",
    "qandc = questions.astype(int)\n",
    "qandc['country'] = countries_cat\n",
    "qandc.head()"
   ]
  },
  {
   "cell_type": "code",
   "execution_count": 52,
   "metadata": {},
   "outputs": [
    {
     "data": {
      "text/html": [
       "<div>\n",
       "<style scoped>\n",
       "    .dataframe tbody tr th:only-of-type {\n",
       "        vertical-align: middle;\n",
       "    }\n",
       "\n",
       "    .dataframe tbody tr th {\n",
       "        vertical-align: top;\n",
       "    }\n",
       "\n",
       "    .dataframe thead th {\n",
       "        text-align: right;\n",
       "    }\n",
       "</style>\n",
       "<table border=\"1\" class=\"dataframe\">\n",
       "  <thead>\n",
       "    <tr style=\"text-align: right;\">\n",
       "      <th></th>\n",
       "      <th>index</th>\n",
       "      <th>country</th>\n",
       "    </tr>\n",
       "  </thead>\n",
       "  <tbody>\n",
       "    <tr>\n",
       "      <th>0</th>\n",
       "      <td>EXT1</td>\n",
       "      <td>0.016791</td>\n",
       "    </tr>\n",
       "    <tr>\n",
       "      <th>1</th>\n",
       "      <td>EXT2</td>\n",
       "      <td>-0.020286</td>\n",
       "    </tr>\n",
       "    <tr>\n",
       "      <th>2</th>\n",
       "      <td>EXT3</td>\n",
       "      <td>0.028436</td>\n",
       "    </tr>\n",
       "    <tr>\n",
       "      <th>3</th>\n",
       "      <td>EXT4</td>\n",
       "      <td>-0.009885</td>\n",
       "    </tr>\n",
       "    <tr>\n",
       "      <th>4</th>\n",
       "      <td>EXT5</td>\n",
       "      <td>0.015496</td>\n",
       "    </tr>\n",
       "  </tbody>\n",
       "</table>\n",
       "</div>"
      ],
      "text/plain": [
       "  index   country\n",
       "0  EXT1  0.016791\n",
       "1  EXT2 -0.020286\n",
       "2  EXT3  0.028436\n",
       "3  EXT4 -0.009885\n",
       "4  EXT5  0.015496"
      ]
     },
     "execution_count": 52,
     "metadata": {},
     "output_type": "execute_result"
    }
   ],
   "source": [
    "# Take the correlation for each question to the country\n",
    "corr = qandc.corr()['country']\n",
    "corr = corr.reset_index()\n",
    "corr.head()"
   ]
  },
  {
   "cell_type": "code",
   "execution_count": 72,
   "metadata": {},
   "outputs": [
    {
     "data": {
      "image/png": "[encoded data removed]",
      "text/plain": [
       "<Figure size 2016x576 with 1 Axes>"
      ]
     },
     "metadata": {},
     "output_type": "display_data"
    }
   ],
   "source": [
    "# Show a histogram of the top corelated questions to country\n",
    "hist = corr.sort_values(by='country', ascending=False)\n",
    "hist.set_index('index', inplace=True)\n",
    "hist.drop('country', axis=0, inplace=True)\n",
    "show_histogram(hist, \"blah\")"
   ]
  },
  {
   "cell_type": "code",
   "execution_count": 33,
   "metadata": {},
   "outputs": [
    {
     "data": {
      "text/html": [
       "<div>\n",
       "<style scoped>\n",
       "    .dataframe tbody tr th:only-of-type {\n",
       "        vertical-align: middle;\n",
       "    }\n",
       "\n",
       "    .dataframe tbody tr th {\n",
       "        vertical-align: top;\n",
       "    }\n",
       "\n",
       "    .dataframe thead th {\n",
       "        text-align: right;\n",
       "    }\n",
       "</style>\n",
       "<table border=\"1\" class=\"dataframe\">\n",
       "  <thead>\n",
       "    <tr style=\"text-align: right;\">\n",
       "      <th></th>\n",
       "      <th>CSN9</th>\n",
       "      <th>AGR8</th>\n",
       "      <th>CSN7</th>\n",
       "      <th>CSN1</th>\n",
       "      <th>OPN10</th>\n",
       "      <th>AGR4</th>\n",
       "      <th>OPN5</th>\n",
       "      <th>AGR10</th>\n",
       "      <th>AGR6</th>\n",
       "      <th>EXT8</th>\n",
       "      <th>CSN3</th>\n",
       "      <th>EST1</th>\n",
       "      <th>EXT3</th>\n",
       "      <th>AGR9</th>\n",
       "      <th>CSN10</th>\n",
       "      <th>CSN5</th>\n",
       "      <th>AGR2</th>\n",
       "      <th>EXT1</th>\n",
       "      <th>EXT5</th>\n",
       "      <th>EST3</th>\n",
       "    </tr>\n",
       "  </thead>\n",
       "  <tbody>\n",
       "    <tr>\n",
       "      <th>0</th>\n",
       "      <td>4</td>\n",
       "      <td>4</td>\n",
       "      <td>4</td>\n",
       "      <td>3</td>\n",
       "      <td>5</td>\n",
       "      <td>4</td>\n",
       "      <td>4</td>\n",
       "      <td>4</td>\n",
       "      <td>3</td>\n",
       "      <td>2</td>\n",
       "      <td>3</td>\n",
       "      <td>1</td>\n",
       "      <td>5</td>\n",
       "      <td>3</td>\n",
       "      <td>4</td>\n",
       "      <td>2</td>\n",
       "      <td>5</td>\n",
       "      <td>4</td>\n",
       "      <td>5</td>\n",
       "      <td>4</td>\n",
       "    </tr>\n",
       "    <tr>\n",
       "      <th>1</th>\n",
       "      <td>5</td>\n",
       "      <td>4</td>\n",
       "      <td>3</td>\n",
       "      <td>3</td>\n",
       "      <td>3</td>\n",
       "      <td>5</td>\n",
       "      <td>3</td>\n",
       "      <td>3</td>\n",
       "      <td>5</td>\n",
       "      <td>5</td>\n",
       "      <td>5</td>\n",
       "      <td>2</td>\n",
       "      <td>3</td>\n",
       "      <td>5</td>\n",
       "      <td>3</td>\n",
       "      <td>3</td>\n",
       "      <td>4</td>\n",
       "      <td>3</td>\n",
       "      <td>3</td>\n",
       "      <td>4</td>\n",
       "    </tr>\n",
       "    <tr>\n",
       "      <th>2</th>\n",
       "      <td>4</td>\n",
       "      <td>4</td>\n",
       "      <td>4</td>\n",
       "      <td>4</td>\n",
       "      <td>4</td>\n",
       "      <td>4</td>\n",
       "      <td>4</td>\n",
       "      <td>3</td>\n",
       "      <td>4</td>\n",
       "      <td>3</td>\n",
       "      <td>2</td>\n",
       "      <td>4</td>\n",
       "      <td>4</td>\n",
       "      <td>4</td>\n",
       "      <td>2</td>\n",
       "      <td>3</td>\n",
       "      <td>4</td>\n",
       "      <td>2</td>\n",
       "      <td>3</td>\n",
       "      <td>4</td>\n",
       "    </tr>\n",
       "    <tr>\n",
       "      <th>3</th>\n",
       "      <td>1</td>\n",
       "      <td>4</td>\n",
       "      <td>2</td>\n",
       "      <td>2</td>\n",
       "      <td>3</td>\n",
       "      <td>4</td>\n",
       "      <td>3</td>\n",
       "      <td>4</td>\n",
       "      <td>4</td>\n",
       "      <td>4</td>\n",
       "      <td>4</td>\n",
       "      <td>3</td>\n",
       "      <td>2</td>\n",
       "      <td>3</td>\n",
       "      <td>4</td>\n",
       "      <td>1</td>\n",
       "      <td>4</td>\n",
       "      <td>2</td>\n",
       "      <td>4</td>\n",
       "      <td>3</td>\n",
       "    </tr>\n",
       "    <tr>\n",
       "      <th>4</th>\n",
       "      <td>5</td>\n",
       "      <td>5</td>\n",
       "      <td>5</td>\n",
       "      <td>5</td>\n",
       "      <td>5</td>\n",
       "      <td>5</td>\n",
       "      <td>5</td>\n",
       "      <td>3</td>\n",
       "      <td>3</td>\n",
       "      <td>5</td>\n",
       "      <td>5</td>\n",
       "      <td>1</td>\n",
       "      <td>3</td>\n",
       "      <td>5</td>\n",
       "      <td>5</td>\n",
       "      <td>3</td>\n",
       "      <td>5</td>\n",
       "      <td>3</td>\n",
       "      <td>5</td>\n",
       "      <td>5</td>\n",
       "    </tr>\n",
       "  </tbody>\n",
       "</table>\n",
       "</div>"
      ],
      "text/plain": [
       "   CSN9  AGR8  CSN7  CSN1  OPN10  AGR4  OPN5  AGR10  AGR6  EXT8  CSN3  EST1  \\\n",
       "0     4     4     4     3      5     4     4      4     3     2     3     1   \n",
       "1     5     4     3     3      3     5     3      3     5     5     5     2   \n",
       "2     4     4     4     4      4     4     4      3     4     3     2     4   \n",
       "3     1     4     2     2      3     4     3      4     4     4     4     3   \n",
       "4     5     5     5     5      5     5     5      3     3     5     5     1   \n",
       "\n",
       "   EXT3  AGR9  CSN10  CSN5  AGR2  EXT1  EXT5  EST3  \n",
       "0     5     3      4     2     5     4     5     4  \n",
       "1     3     5      3     3     4     3     3     4  \n",
       "2     4     4      2     3     4     2     3     4  \n",
       "3     2     3      4     1     4     2     4     3  \n",
       "4     3     5      5     3     5     3     5     5  "
      ]
     },
     "execution_count": 33,
     "metadata": {},
     "output_type": "execute_result"
    }
   ],
   "source": [
    "# Find the most highly correlated 20 columns\n",
    "# We take 21 columns because country will be included (perfectly correlated)\n",
    "topcols = corr.sort_values('country', ascending=False).head(21)['index'].to_list()\n",
    "\n",
    "# Take those best questions and remove the country\n",
    "topquestions = qandc[topcols].copy()\n",
    "topquestions.drop('country', axis=1, inplace=True)\n",
    "topquestions.head()"
   ]
  },
  {
   "cell_type": "code",
   "execution_count": 34,
   "metadata": {},
   "outputs": [],
   "source": [
    "# Let's train on this subset of data and see if it improves our prediction\n",
    "X_train, X_test, y_train, y_test = split_data(topquestions, countries_cat)"
   ]
  },
  {
   "cell_type": "markdown",
   "metadata": {},
   "source": [
    "#### Now we move to the data modeling phase and perform logistic regression on this subset of data"
   ]
  },
  {
   "cell_type": "code",
   "execution_count": 35,
   "metadata": {},
   "outputs": [
    {
     "name": "stderr",
     "output_type": "stream",
     "text": [
      "[Parallel(n_jobs=1)]: Using backend SequentialBackend with 1 concurrent workers.\n",
      "/home/ec2-user/anaconda3/envs/python3/lib/python3.6/site-packages/sklearn/linear_model/logistic.py:758: ConvergenceWarning: lbfgs failed to converge. Increase the number of iterations.\n",
      "  \"of iterations.\", ConvergenceWarning)\n",
      "[Parallel(n_jobs=1)]: Done   1 out of   1 | elapsed: 11.7min remaining:    0.0s\n",
      "[Parallel(n_jobs=1)]: Done   1 out of   1 | elapsed: 11.7min finished\n"
     ]
    },
    {
     "data": {
      "text/plain": [
       "LogisticRegression(C=1.0, class_weight=None, dual=False, fit_intercept=True,\n",
       "          intercept_scaling=1, max_iter=100, multi_class='auto',\n",
       "          n_jobs=None, penalty='l2', random_state=None, solver='lbfgs',\n",
       "          tol=0.0001, verbose=10, warm_start=False)"
      ]
     },
     "execution_count": 35,
     "metadata": {},
     "output_type": "execute_result"
    }
   ],
   "source": [
    "from sklearn.linear_model import LogisticRegression\n",
    "\n",
    "# Use logistic regression just like before\n",
    "log_model = LogisticRegression(solver='lbfgs', multi_class='auto', verbose=10, max_iter=100)\n",
    "log_model.fit(X_train, y_train)"
   ]
  },
  {
   "cell_type": "markdown",
   "metadata": {},
   "source": [
    "#### Finally we move to the evaluate the results phase and show the results"
   ]
  },
  {
   "cell_type": "markdown",
   "metadata": {},
   "source": [
    "#### Reducing the number of features did not help with the prediction which held steady at 53.8%. "
   ]
  },
  {
   "cell_type": "code",
   "execution_count": 36,
   "metadata": {},
   "outputs": [
    {
     "name": "stdout",
     "output_type": "stream",
     "text": [
      "Accuracy score:   0.5383429672447013\n"
     ]
    }
   ],
   "source": [
    "from sklearn.metrics import accuracy_score\n",
    "\n",
    "y_test_preds = log_model.predict(X_test) \n",
    "\n",
    "show_accuracy(y_test, y_test_preds)"
   ]
  },
  {
   "cell_type": "markdown",
   "metadata": {},
   "source": [
    "#### Now we move back to data preparation phase as we look into the final question.  Let's look at predicting the time it takes folks to complete the survey.  Can this be predicted based on the answer pattern?"
   ]
  },
  {
   "cell_type": "code",
   "execution_count": 37,
   "metadata": {},
   "outputs": [
    {
     "data": {
      "text/plain": [
       "0    249.0\n",
       "1    202.0\n",
       "2    196.0\n",
       "3    412.0\n",
       "4    340.0\n",
       "dtype: float64"
      ]
     },
     "execution_count": 37,
     "metadata": {},
     "output_type": "execute_result"
    }
   ],
   "source": [
    "# Combine the times for the intro, survey, and end into one column.\n",
    "times = pers['introelapse'] + pers['testelapse'] + pers['endelapse'].astype('float')\n",
    "times.head()"
   ]
  },
  {
   "cell_type": "code",
   "execution_count": 38,
   "metadata": {},
   "outputs": [],
   "source": [
    "# Split the data\n",
    "X_train, X_test, y_train, y_test = split_data(questions, times)"
   ]
  },
  {
   "cell_type": "markdown",
   "metadata": {},
   "source": [
    "#### Now we move to the data modeling phase for a final time as we use Linear Regression to try to predict the time spent on the survey"
   ]
  },
  {
   "cell_type": "code",
   "execution_count": 39,
   "metadata": {},
   "outputs": [
    {
     "data": {
      "text/plain": [
       "LinearRegression(copy_X=True, fit_intercept=True, n_jobs=None, normalize=True)"
      ]
     },
     "execution_count": 39,
     "metadata": {},
     "output_type": "execute_result"
    }
   ],
   "source": [
    "from sklearn.linear_model import LinearRegression\n",
    "\n",
    "# Linear regression this time, the output is a number\n",
    "lm_model = LinearRegression(normalize=True)\n",
    "lm_model.fit(X_train, y_train) #Fit"
   ]
  },
  {
   "cell_type": "markdown",
   "metadata": {},
   "source": [
    "#### And finally we move to evaluate the results phase to show the prediction results."
   ]
  },
  {
   "cell_type": "markdown",
   "metadata": {},
   "source": [
    "### Not a very good result, the prediction is hardly more than a guess.  This shows that test time cannot be predicted based on just the survey answers."
   ]
  },
  {
   "cell_type": "code",
   "execution_count": 40,
   "metadata": {},
   "outputs": [
    {
     "data": {
      "text/plain": [
       "'The r-squared score for your model was -2.9730613431144803e-06 on 303615 values.'"
      ]
     },
     "execution_count": 40,
     "metadata": {},
     "output_type": "execute_result"
    }
   ],
   "source": [
    "from sklearn.metrics import r2_score, mean_squared_error\n",
    "\n",
    "# Predict and score the model\n",
    "y_test_preds = lm_model.predict(X_test) \n",
    "\"The r-squared score for your model was {} on {} values.\".format(r2_score(y_test, y_test_preds), len(y_test))"
   ]
  },
  {
   "cell_type": "code",
   "execution_count": null,
   "metadata": {},
   "outputs": [],
   "source": []
  }
 ],
 "metadata": {
  "kernelspec": {
   "display_name": "conda_python3",
   "language": "python",
   "name": "conda_python3"
  },
  "language_info": {
   "codemirror_mode": {
    "name": "ipython",
    "version": 3
   },
   "file_extension": ".py",
   "mimetype": "text/x-python",
   "name": "python",
   "nbconvert_exporter": "python",
   "pygments_lexer": "ipython3",
   "version": "3.6.5"
  }
 },
 "nbformat": 4,
 "nbformat_minor": 2
}
